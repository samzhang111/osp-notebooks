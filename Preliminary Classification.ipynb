{
 "cells": [
  {
   "cell_type": "code",
   "execution_count": 1,
   "metadata": {
    "collapsed": true
   },
   "outputs": [],
   "source": [
    "import pandas as pd\n",
    "\n",
    "labels = pd.read_sql_table('labels', 'sqlite:////home/sam/labeler/labels.sqlite')"
   ]
  },
  {
   "cell_type": "code",
   "execution_count": 3,
   "metadata": {
    "collapsed": false
   },
   "outputs": [
    {
     "name": "stdout",
     "output_type": "stream",
     "text": [
      "Number of labels: 257\n"
     ]
    },
    {
     "data": {
      "text/html": [
       "<div>\n",
       "<table border=\"1\" class=\"dataframe\">\n",
       "  <thead>\n",
       "    <tr style=\"text-align: right;\">\n",
       "      <th></th>\n",
       "      <th>id</th>\n",
       "      <th>document_id</th>\n",
       "      <th>label</th>\n",
       "      <th>labeler</th>\n",
       "      <th>labeler_ip</th>\n",
       "    </tr>\n",
       "  </thead>\n",
       "  <tbody>\n",
       "    <tr>\n",
       "      <th>0</th>\n",
       "      <td>0</td>\n",
       "      <td>1216985</td>\n",
       "      <td>NaN</td>\n",
       "      <td>None</td>\n",
       "      <td>None</td>\n",
       "    </tr>\n",
       "    <tr>\n",
       "      <th>1</th>\n",
       "      <td>1</td>\n",
       "      <td>507947</td>\n",
       "      <td>33.0</td>\n",
       "      <td>None</td>\n",
       "      <td>None</td>\n",
       "    </tr>\n",
       "    <tr>\n",
       "      <th>2</th>\n",
       "      <td>2</td>\n",
       "      <td>650966</td>\n",
       "      <td>0.0</td>\n",
       "      <td>None</td>\n",
       "      <td>None</td>\n",
       "    </tr>\n",
       "    <tr>\n",
       "      <th>3</th>\n",
       "      <td>3</td>\n",
       "      <td>651052</td>\n",
       "      <td>38.0</td>\n",
       "      <td>None</td>\n",
       "      <td>None</td>\n",
       "    </tr>\n",
       "    <tr>\n",
       "      <th>4</th>\n",
       "      <td>4</td>\n",
       "      <td>366347</td>\n",
       "      <td>8.0</td>\n",
       "      <td>None</td>\n",
       "      <td>None</td>\n",
       "    </tr>\n",
       "  </tbody>\n",
       "</table>\n",
       "</div>"
      ],
      "text/plain": [
       "   id  document_id  label labeler labeler_ip\n",
       "0   0      1216985    NaN    None       None\n",
       "1   1       507947   33.0    None       None\n",
       "2   2       650966    0.0    None       None\n",
       "3   3       651052   38.0    None       None\n",
       "4   4       366347    8.0    None       None"
      ]
     },
     "execution_count": 3,
     "metadata": {},
     "output_type": "execute_result"
    }
   ],
   "source": [
    "print('Number of labels:', labels.shape[0])\n",
    "\n",
    "labels.head()"
   ]
  },
  {
   "cell_type": "code",
   "execution_count": 5,
   "metadata": {
    "collapsed": false
   },
   "outputs": [
    {
     "data": {
      "text/plain": [
       "True     170\n",
       "False     87\n",
       "Name: is_syllabus, dtype: int64"
      ]
     },
     "execution_count": 5,
     "metadata": {},
     "output_type": "execute_result"
    }
   ],
   "source": [
    "labels['is_syllabus'] = labels.label != 0\n",
    "\n",
    "labels.is_syllabus.value_counts()"
   ]
  },
  {
   "cell_type": "code",
   "execution_count": 35,
   "metadata": {
    "collapsed": false
   },
   "outputs": [],
   "source": [
    "import sqlalchemy\n",
    "from sqlalchemy.orm import sessionmaker\n",
    "from sqlalchemy.schema import MetaData\n",
    "\n",
    "engine = sqlalchemy.create_engine('postgresql:///osp')\n",
    "Session = sessionmaker(bind=engine)\n",
    "session = Session()\n",
    "\n",
    "metadata = MetaData()\n",
    "metadata.reflect(bind=engine)"
   ]
  },
  {
   "cell_type": "code",
   "execution_count": 36,
   "metadata": {
    "collapsed": true
   },
   "outputs": [],
   "source": [
    "document_text_table = metadata.tables['document_text']"
   ]
  },
  {
   "cell_type": "code",
   "execution_count": 49,
   "metadata": {
    "collapsed": false
   },
   "outputs": [],
   "source": [
    "label_texts = []\n",
    "\n",
    "for i, row in labels.iterrows():\n",
    "    text = session.query(document_text_table).filter(document_text_table.c['document_id'] == row.document_id).first()[-1]\n",
    "    label_texts.append(text)\n",
    "    \n",
    "labels['text'] = label_texts"
   ]
  },
  {
   "cell_type": "code",
   "execution_count": 69,
   "metadata": {
    "collapsed": false
   },
   "outputs": [],
   "source": [
    "from sklearn.pipeline import Pipeline\n",
    "from sklearn.feature_extraction.text import CountVectorizer\n",
    "from sklearn.feature_extraction.text import TfidfTransformer\n",
    "from sklearn.ensemble import RandomForestClassifier\n",
    "\n",
    "text_clf = Pipeline([\n",
    "    ('vect', CountVectorizer()),\n",
    "    ('tfidf', TfidfTransformer()),\n",
    "    ('rf', RandomForestClassifier(n_estimators=100))\n",
    "])"
   ]
  },
  {
   "cell_type": "code",
   "execution_count": 78,
   "metadata": {
    "collapsed": false
   },
   "outputs": [
    {
     "data": {
      "text/plain": [
       "array([ 0.97222222,  0.85784314,  0.84688581,  0.9083045 ,  0.94463668])"
      ]
     },
     "execution_count": 78,
     "metadata": {},
     "output_type": "execute_result"
    }
   ],
   "source": [
    "from sklearn.model_selection import cross_val_score\n",
    "\n",
    "cross_val_score(text_clf, labels['text'].values, labels['is_syllabus'].values, cv=5, scoring='roc_auc')"
   ]
  },
  {
   "cell_type": "code",
   "execution_count": 70,
   "metadata": {
    "collapsed": false
   },
   "outputs": [
    {
     "data": {
      "text/plain": [
       "Pipeline(steps=[('vect', CountVectorizer(analyzer='word', binary=False, decode_error='strict',\n",
       "        dtype=<class 'numpy.int64'>, encoding='utf-8', input='content',\n",
       "        lowercase=True, max_df=1.0, max_features=None, min_df=1,\n",
       "        ngram_range=(1, 1), preprocessor=None, stop_words=None,\n",
       "        strip...mators=100, n_jobs=1, oob_score=False, random_state=None,\n",
       "            verbose=0, warm_start=False))])"
      ]
     },
     "execution_count": 70,
     "metadata": {},
     "output_type": "execute_result"
    }
   ],
   "source": [
    "text_clf.fit(labels['text'].values, labels['is_syllabus'].values)"
   ]
  },
  {
   "cell_type": "code",
   "execution_count": 77,
   "metadata": {
    "collapsed": false
   },
   "outputs": [
    {
     "name": "stdout",
     "output_type": "stream",
     "text": [
      "........................................................................................................................................................................................................................................................................................................................................................................................................................................................................................................................................................................................................................................................................................................................................................................................................................................................................................................................................................................................................................................................................................................................................................................................................................................................................................................................................................................................................................................................."
     ]
    }
   ],
   "source": [
    "results = []\n",
    "\n",
    "text_cursor = session.query(document_text_table).yield_per(10).enable_eagerloads(False)\n",
    "\n",
    "for i, (_, _, document_id, text) in enumerate(text_cursor):\n",
    "    if i % 1000 == 0:\n",
    "        print('.', end='')\n",
    "    results.append((document_id, text_clf.predict_proba([text])[0][1]))"
   ]
  },
  {
   "cell_type": "code",
   "execution_count": 82,
   "metadata": {
    "collapsed": false
   },
   "outputs": [],
   "source": [
    "results_df = pd.DataFrame(results, columns=['document_id', 'is_syllabus'])"
   ]
  },
  {
   "cell_type": "code",
   "execution_count": 83,
   "metadata": {
    "collapsed": false
   },
   "outputs": [
    {
     "name": "stdout",
     "output_type": "stream",
     "text": [
      "(1400513, 2)\n"
     ]
    },
    {
     "data": {
      "text/html": [
       "<div>\n",
       "<table border=\"1\" class=\"dataframe\">\n",
       "  <thead>\n",
       "    <tr style=\"text-align: right;\">\n",
       "      <th></th>\n",
       "      <th>document_id</th>\n",
       "      <th>is_syllabus</th>\n",
       "    </tr>\n",
       "  </thead>\n",
       "  <tbody>\n",
       "    <tr>\n",
       "      <th>0</th>\n",
       "      <td>1086299</td>\n",
       "      <td>0.395000</td>\n",
       "    </tr>\n",
       "    <tr>\n",
       "      <th>1</th>\n",
       "      <td>237602</td>\n",
       "      <td>0.566667</td>\n",
       "    </tr>\n",
       "    <tr>\n",
       "      <th>2</th>\n",
       "      <td>378931</td>\n",
       "      <td>0.883333</td>\n",
       "    </tr>\n",
       "    <tr>\n",
       "      <th>3</th>\n",
       "      <td>520119</td>\n",
       "      <td>0.583333</td>\n",
       "    </tr>\n",
       "    <tr>\n",
       "      <th>4</th>\n",
       "      <td>799669</td>\n",
       "      <td>0.810000</td>\n",
       "    </tr>\n",
       "  </tbody>\n",
       "</table>\n",
       "</div>"
      ],
      "text/plain": [
       "   document_id  is_syllabus\n",
       "0      1086299     0.395000\n",
       "1       237602     0.566667\n",
       "2       378931     0.883333\n",
       "3       520119     0.583333\n",
       "4       799669     0.810000"
      ]
     },
     "execution_count": 83,
     "metadata": {},
     "output_type": "execute_result"
    }
   ],
   "source": [
    "print(results_df.shape)\n",
    "\n",
    "results_df.head()"
   ]
  },
  {
   "cell_type": "code",
   "execution_count": 84,
   "metadata": {
    "collapsed": true
   },
   "outputs": [],
   "source": [
    "results_df.to_csv('/home/sam/data/osp/is_syllabus-preliminary.csv', index=False)"
   ]
  },
  {
   "cell_type": "markdown",
   "metadata": {},
   "source": [
    "#### Now that we have a syllabus-not-syllabus classifier, let's do two things:\n",
    "\n",
    "1. Look at syllabi closest to the decision boundary, and possibly use those to inform the next round of the classification.\n",
    "\n",
    "2. Set a high threshold for `is_syllabus`, then apply a second classifier to the syllabi to sort into fields"
   ]
  },
  {
   "cell_type": "code",
   "execution_count": 86,
   "metadata": {
    "collapsed": false
   },
   "outputs": [
    {
     "data": {
      "text/plain": [
       "count    1.400513e+06\n",
       "mean     6.476103e-01\n",
       "std      2.607691e-01\n",
       "min      3.333333e-03\n",
       "25%      4.600000e-01\n",
       "50%      7.383333e-01\n",
       "75%      8.650000e-01\n",
       "max      1.000000e+00\n",
       "Name: is_syllabus, dtype: float64"
      ]
     },
     "execution_count": 86,
     "metadata": {},
     "output_type": "execute_result"
    }
   ],
   "source": [
    "results_df.is_syllabus.describe()"
   ]
  },
  {
   "cell_type": "code",
   "execution_count": 92,
   "metadata": {
    "collapsed": false
   },
   "outputs": [],
   "source": [
    "sample = results_df.sample(100)"
   ]
  },
  {
   "cell_type": "code",
   "execution_count": 96,
   "metadata": {
    "collapsed": false
   },
   "outputs": [],
   "source": [
    "sample_texts = []\n",
    "\n",
    "for i, document_id in enumerate(sample.document_id):\n",
    "    text = session.query(document_text_table).filter(document_text_table.c['document_id'] == str(document_id)).first()[-1]\n",
    "    sample_texts.append(text)"
   ]
  },
  {
   "cell_type": "code",
   "execution_count": 112,
   "metadata": {
    "collapsed": false
   },
   "outputs": [
    {
     "data": {
      "text/plain": [
       "<matplotlib.axes._subplots.AxesSubplot at 0x7fc9018436d8>"
      ]
     },
     "execution_count": 112,
     "metadata": {},
     "output_type": "execute_result"
    },
    {
     "data": {
      "image/png": "[encoded data removed]",
      "text/plain": [
       "<matplotlib.figure.Figure at 0x7fc9017839e8>"
      ]
     },
     "metadata": {},
     "output_type": "display_data"
    }
   ],
   "source": [
    "%matplotlib inline\n",
    "\n",
    "import matplotlib.pyplot as plt\n",
    "import seaborn as sns\n",
    "\n",
    "sns.kdeplot(results_df.is_syllabus)"
   ]
  },
  {
   "cell_type": "code",
   "execution_count": 130,
   "metadata": {
    "collapsed": false
   },
   "outputs": [
    {
     "data": {
      "text/plain": [
       "document_id    237602.000000\n",
       "is_syllabus         0.566667\n",
       "Name: 1, dtype: float64"
      ]
     },
     "execution_count": 130,
     "metadata": {},
     "output_type": "execute_result"
    }
   ],
   "source": [
    "results_df[(results_df.is_syllabus > 0.53) & (results_df.is_syllabus < 0.58)].iloc[0]"
   ]
  },
  {
   "cell_type": "code",
   "execution_count": 132,
   "metadata": {
    "collapsed": false
   },
   "outputs": [
    {
     "name": "stdout",
     "output_type": "stream",
     "text": [
      "\n",
      "\n",
      "\n",
      "\n",
      "\n",
      "\n",
      "\n",
      "\n",
      "\n",
      "\n",
      "\n",
      "\n",
      "\n",
      "\n",
      "\n",
      "\n",
      "\n",
      "\n",
      "\n",
      "\n",
      "\n",
      "\n",
      "\n",
      "\n",
      "\n",
      "\n",
      "\n",
      "\n",
      "JUN\n",
      "\n",
      "OCT\n",
      "\n",
      "DEC\n",
      "\n",
      "\n",
      "\n",
      "\n",
      "\n",
      "\n",
      "\n",
      "20\n",
      "\n",
      "\n",
      "\n",
      "\n",
      "\n",
      "\n",
      "\n",
      "2001\n",
      "\n",
      "2002\n",
      "\n",
      "2003\n",
      "\n",
      "\n",
      "\n",
      "\n",
      "\n",
      "\n",
      "\n",
      "16 captures\n",
      "2 Sep 00 - 29 Nov 09\n",
      "\n",
      "\n",
      "\n",
      "\n",
      "\n",
      "\n",
      "\n",
      "\n",
      "\n",
      "\n",
      "\n",
      "\n",
      "\n",
      "Close\n",
      "Help\n",
      "\n",
      "\n",
      "\n",
      "\n",
      "\n",
      "\n",
      "\n",
      "\n",
      "\n",
      "\n",
      "FICTION OF POSTMODERN AMERICA:\n",
      "COURSE OUTLINE & READING SCHEDULE\n",
      "\n",
      "\n",
      "\n",
      "\n",
      "\n",
      "\n",
      "WEEK 1:  Tu Aug 24 -- INTRODUCTIONS & COURSE OVERVIEW\n",
      "\n",
      "Th  Aug 26 -- MAPPING POSTMODERN & CONTEMPORARY AMERICAN LITERATURE(S)\n",
      "\n",
      "REQUIRED READING:\n",
      "\n",
      " Paula Geyh, et al., eds, Postmodern American Fiction: A Norton Anthology (henceforth PAF) \"Introduction\" (pp. ix+)\n",
      "Michael Berube, \"Just the Fax M'am\" (PAF 595+)\n",
      "\n",
      "RECOMMENDED READING: \n",
      "\n",
      "\n",
      "WEEK 2:Tu  Aug 31 -- MAPPING POSTMODERNITIES\n",
      "\n",
      "REQUIRED READING:\n",
      "  Fredric Jameson, from \"Postmodernism and Consumer Society.\" (PAF 654+)\n",
      "\n",
      " Donna Haraway, \"A Cyborg Manifesto.\" (PAF 603+)\n",
      "bell hooks, \"Postmodern Blackness.\" (PAF 624+)\n",
      "RECOMMENDED READING:\n",
      "Neil Larsen,\n",
      "\"Postmodernism and Imperialism\" (O)\n",
      "Steven Best and Douglas Kellner,\n",
      "\n",
      "Postmodern Theory: Critical InvestigationsWith excerpts on various postmodern theorists. (O)\n",
      "\n",
      "Th  Sep 2 -- POSTMODERN POETICS & MULTICULTURAL FICTIONS\n",
      "\n",
      "REQUIRED READING:\n",
      "Brian McHale, \"Introducing Constructing.\" (X)\n",
      "Ihab Hassan, \"Toward a Concept of Postmodernism.\" (PAF  585+)\n",
      "Umberto Eco, from \"Postscript to 'Name of the Rose.'\" (PAF 622+)\n",
      "Linda Hutcheon, \"Theorising the Postmodern.\" (X)\n",
      "\n",
      "\n",
      "\n",
      "WEEK 3: Tu Sep 7 -- ROOTS/ROUTES TO POSTMODERNISM: FORMS OF HISTORY \n",
      "\n",
      "REQUIRED READING:\n",
      "Geyh, et al., \"Fictions of Fact.\" (PAF 125+)\n",
      "\n",
      "Larry McCaffery, \"Fictions of the Present.\" (R)\n",
      "\n",
      "Norman Mailer, from \"Armies of the Night.\" (PAF 141+)\n",
      "\n",
      "Gloria Anzaldua, from \"Borderlands/La Frontera'\" (PAF 183+)\n",
      "\n",
      " Leslie Silko, from \"Ceremony.\" (PAF 321+)\n",
      "\n",
      "\n",
      " Trinh T. Minh-ha, from \"Woman, Native, Other.\" (PAF 652-54)\n",
      "\n",
      "Th Sept 9: ROOTS/ROUTES TO POSTMODERNISM: HISTORIES OF FORM\n",
      "\n",
      "REQUIRED READING:\n",
      "\n",
      "Geyh, et al., \"Revisting History.\" (PAF 291+) and \"Revising Tradition.\" (PAF 393+)\n",
      " \n",
      "Linda Hutcheon, \"Intertextuality, Parody and the Discourses of History.\" (R)\n",
      "\n",
      "\n",
      "Ishmael Reed, from \"Yellow Back Radio Broke-Down.\" (PAF 55+)\n",
      "\n",
      "Sherman Alexie, \"Captivity.\" (PAF 341+)\n",
      "RECOMMENDED:\n",
      " \"The Captivity and Restoration of Mrs. Mary\n",
      "Rowlandson\" browse as backdrop for Alexie's story.\n",
      "TOP OF PAGE\n",
      "\n",
      "\n",
      "\n",
      "\n",
      "WEEK 4: Tu Sep 14 -- ROOTS/ROUTES TO POSTMODERNISM: FORMS OF ANTI-FORMALISM\n",
      "\n",
      "REQUIRED READING:\n",
      "\n",
      " Geyh, et al., \"Breaking the Frame.\"(PAF 1+)\n",
      "\n",
      "Raymond Federman, \"Self-Reflexive Fiction.\" (X)\n",
      "\n",
      "Donald Barthelme, \"See the Moon\" & \"Sentence.\" (PAF 25+)\n",
      "\n",
      "Theresa Hak Kyung Cha, from \"Dictee.\" (PAF 161)\n",
      "\n",
      "RECOMMENDED:\n",
      "\n",
      "Thomas Pynchon writing on Donald Barthelme\n",
      "FILM: Wed, night Sep 15, 7:30pm, Avery 12 -- Laurie Anderson, \"Home of the Brave\"\n",
      "\n",
      "\n",
      "Laurie Anderson fiddles\n",
      "\n",
      "\n",
      "\n",
      "\n",
      "\n",
      "\n",
      "\n",
      "\n",
      "Th Sep 16 -- ROUTES/ROOTS TO POSTMODERNISM: POP GOES ELITISM\n",
      "\n",
      "\n",
      "Geyh, et al., \"Popular Culture and High Culture Collide.\" (PAF 193+)\n",
      "\n",
      "Laurie Anderson, from \"The Nerve Bible.\" (PAF 216+)\n",
      "TOP OF PAGE\n",
      "\n",
      "\n",
      "WEEK 5: Tu Sep 21 and Th Sep 23 -- NAKED POSTMODERNISM, DECONSTRUCTIVE POLITICS\n",
      "\n",
      "REQUIRED READING:\n",
      "\n",
      "William Burroughs, NAKED LUNCH\n",
      "\n",
      "Robin Lydenberg, \"Beyond Good and Evil: 'How To' Read 'Naked Lunch,'\" and \"Notes from the Orifice, \" in Lydenberg, Word Cultures.(R)\n",
      "\n",
      "FILM: Wed. night, Sep. 22, 7:30pm, Avery 12 --\n",
      "\"Naked Lunch\" by \n",
      "David Cronenberg\n",
      "\n",
      "TOP OF PAGE\n",
      "\n",
      "\n",
      "WEEK 6: Tu  Sep 28 and Th Sep 30 -- BEAUTIFUL PARANOIA & THE METAPHOR QUEST \n",
      "\n",
      "REQUIRED READING:\n",
      "\n",
      "Thomas Pynchon, CRYING OF LOT 49\n",
      "\n",
      " detail from \"Borando el Manto Terrestre,\" by Remedios Varo (the painting that moved Oedipa Maas to tears).\n",
      "\n",
      "\"Journey into the Mind of Watts\" essay by Pynchon written at time of Lot 49reflecting on the site of one of the major urban insurrections of the 1960s.\n",
      "\n",
      "Brian McHale, \"From Modernist to Postmodernist Fiction.\" (R)\n",
      "\n",
      "Robert D. Newman, \"The Quest for Metaphor in 'The Crying of Lot 49,'\" in Newman, Understanding Thomas Pynchon.(R)\n",
      "\n",
      "Thomas Schaub,\"'The Crying Of Lot 49: 'A Gentle Chill of Ambiguity.'\" in Schaub, Pynchon: The Voice Of Ambiguity.(R)\n",
      "\n",
      "BIB: Lot 49 Annotated Bibliography by Dennis Bennett\n",
      "\n",
      "TOP OF PAGE\n",
      "\n",
      "\n",
      "WEEK 7: Tu Oct 5 and Th Oct 7 -- AIRBORNE TOXIC EVENTS & THE POSTMODERN UNIVERS(E)ITY\n",
      "\n",
      "REQUIRED READING: \n",
      "Don DeLillo, WHITE NOISE\n",
      "\n",
      "criticism section of Viking Critical White Noise (read selections by Frow and Duvall, browse others following your interests).\n",
      "\n",
      "RECOMMENDED READING:\n",
      " Rettberg,\n",
      "\"American Simulacra: Don DeLillo's Fiction in Light of Some Aspects of Postmodernism.\"(O)\n",
      "\n",
      "Anonymous \"'White Noise' and 'Crying of Lot 49'\" essay from San Narciso's website.(O)\n",
      "\n",
      "TOP OF PAGE\n",
      "\n",
      "\n",
      "WEEK 8: Tu Oct 12 and Th Oct 14 -- (POST)MODERN DESIRE & BLACK BLUES\n",
      "\n",
      "REQUIRED READING:\n",
      "\n",
      "Toni Morrison, JAZZ\n",
      "\n",
      "Carolyn M. Jones, \"Traces and Cracks: Identity and Narrative in Toni Morrison's 'Jazz.'\" (R)\n",
      "\n",
      "Elizabeth M. Cannon, \"Following the Traces of Female Desire in Toni Morrison's 'Jazz.'\" (R)\n",
      "\n",
      "RECOMMENDED READING:\n",
      "Jazz Plot Chronology by Jay Clayton. (O)\n",
      "TOP OF PAGE\n",
      "\n",
      " \n",
      "WEEK 9: Tu Oct 19 and Th Oct 21 -- POSTMODERN POETICS & THE POLITICS OF (BLACK) MAGIC\n",
      "\n",
      "REQUIRED READING:\n",
      "Toni Cade Bambara, THE SALT EATERS.\n",
      "\n",
      "Elliot Butler-Evans, \"'The Salt Eaters,'\" from  Race, Gender and Desire. (R)\n",
      "\n",
      "Janelle Collins, \"Generating Power: Fission, Fusion and Postmodern Politics in 'The Salt Eaters.'\" (R)\n",
      "\n",
      "RECOMMENDED READING: Toni Morrison,\n",
      " Tribute to Bambara  (O)\n",
      "TOP OF PAGE\n",
      "\n",
      "\n",
      "WEEK 10: Tu Oct 26 --  QUEER(Y)ING THE POSTMODERN FUTURE\n",
      "\n",
      "REQUIRED READING:\n",
      " \n",
      "Geyh, et al., \"Technoculture.\" (PAF 509+)\n",
      "\n",
      "Samuel R. Delany, from \"Tales of Neveryon.\" (PAF 470+)\n",
      "Octavia Butler, from \"Imago.\" (PAF 554+)\n",
      "Joanna Russ, from \"The Female Man.\" (PAF 537+) \n",
      "RECOMMENDED READING:  Reread: Donna Haraway, \"A Cyborg Manifesto.\" (PAF 603+)\n",
      "\n",
      "Th Oct 28 thru Halloween -- HYPE OR TEXT? [NOTE: MEET IN CYBERSPACE ONLY]\n",
      "\n",
      "REQUIRED READING:\n",
      " J. Yellowtrees Douglas, from \"I Have Said Nothing.\" (PAF 573+ and ONLINE)\n",
      " Michael Joyce, from \"afternoon, a story.\" (PAF 576+ and ONLINE)\n",
      "Terry Harpold, \"Conclusions.\" (PAF 637+)\n",
      "\n",
      "TOP OF PAGE\n",
      "\n",
      "\n",
      "WEEK 11: Tu Nov 2 -- PUNK COWBOYS & CYBERGRRRLS IN SPACE\n",
      "\n",
      "REQUIRED READING:\n",
      "William Gibson, NEUROMANCER\n",
      "\n",
      "\n",
      "Veronica Hollinger, \"Cybernetic Deconstructions: Cyberpunk and Pomo.\" (R)\n",
      "\n",
      "Istvan Csicsery-Ronay, \"Cyberpunk and Neuromanticism.\" (R)\n",
      "\n",
      "Brian McHale, \"POSTcyberMODERNpunkISM.\" (R)\n",
      "\n",
      "\n",
      "NOTE: YOUR HYPETEXT ANALYSIS IS DUE IN CLASS TODAY\n",
      "\n",
      "RECOMMENDED READING: \n",
      "\"A Study Guide to Gibson's 'Neuromancer'\" By Paul Brians, WSU (O)\n",
      "\n",
      "FILM: Wed. night, Nov. 3, 7:30pm, Avery 12 ---- \"Blade Runner\" (director's cut) by Ridley Scott\n",
      "\n",
      "\n",
      "Th Nov 4 -- BLADE-RUNNING THROUGH SENSELESS EMPIRES\n",
      "\n",
      "REQUIRED READING:\n",
      "Kathy Acker, from Empire of the Senseless (X)\n",
      "\n",
      "Ellen G. Friedman, \"`Now Eat Your Mind': An Introduction to the Works\n",
      "of Kathy Acker.\" (R)\n",
      "\n",
      "\n",
      "NOV. 5th: SPECIAL EVENT: Performance artist \n",
      "Coco Fusco at WSU (time and place tba)\n",
      "\n",
      "\n",
      "TOP OF PAGE\n",
      "\n",
      "\n",
      "WEEK 12: Tu Nov 9 and Th Nov 11 -- POSTMODERN TRICKSTERS & RED BLUES\n",
      "\n",
      "REQUIRED READING:\n",
      "\n",
      "Gerald Vizenor, \"Feral Lasers.\" (PAF 548+)\n",
      "Gerald Vizenor, \"Trickster Discourse: Comic Holotropes and Language Games,\" in Vizenor, ed., Narrative Chance: Postmodern Discourse on Native American Indian Literatures. (R)\n",
      "\n",
      "Sherman Alexie, LONE RANGER & TONTO FISTFIGHT IN HEAVEN\n",
      "\n",
      "Janine Richardson, \"Magic and Memory in Sherman Alexie's 'Reservation Blues.'\" (R)\n",
      "\n",
      "P. Jane Hafen, \"Rock and Roll Redskins, and Blues in Sherman Alexie's Work.\" (R)\n",
      "\n",
      "James Cox, \"Muting White Noise: The Subversion of Popular Culture Narratives of Conquest in Sherman Alexie's Fiction.\" (R)\n",
      "\n",
      "\n",
      "FILM: Wed. night, Nov. 10, 7:30pm, Avery 12 -- \n",
      "\"Smoke Signals\"(scripted by Alexie, directed by Chris Eyre)\n",
      "TOP OF PAGE\n",
      "\n",
      " \n",
      "WEEK 13: Tu Nov 16 -- POSTMODERN BORDERLANDS & CHICANA/LATINA RESISTANCE\n",
      "\n",
      "REQUIRED READING: \n",
      "\n",
      "Ana Castillo, SO FAR FROM GOD\n",
      "\n",
      "Helen Maria Viramontes, \"The Cariboo Cafe.\" (PAF 497+)\n",
      "\n",
      "Theresa Delgadillo, \"Forms of Chicana Feminst Resistance: Hybrid Spirituality in Ana Castillo's 'So Far From God.'\" (R)\n",
      "\n",
      "Kamala Platt, \"Ecocritical Chicana Literature: Ana Castillo's 'Virtual Realism.'\" (R)\n",
      "\n",
      "RECOMMENDED READING & OTHER RESOURCES:\n",
      "\n",
      "Map of North Central New Mexico, site of So Far From God\n",
      "\n",
      "Interview with Castillo (O)\n",
      "\n",
      "\n",
      "\n",
      "THANKSGIVING BREAK NOV 22-26\n",
      "\n",
      "\n",
      "\n",
      "WEEK 14: Tu Nov 30 and Th Dec 2 -- POSTMODERN (NON)FICTION & WOMEN WARRIORS\n",
      "\n",
      "REQUIRED READING:\n",
      "Maxine Hong Kingston, WOMAN WARRIOR\n",
      "\n",
      "King-Kok Cheung, \"The Woman Warrior vs. The Chinaman Pacific.\" (R)\n",
      " Amy Ling, \"Maxine Hong Kingston and the Dialogic Dilemma of Asian American Writers.\" (R)\n",
      "\n",
      "\n",
      "WEEK 15: Tu Dec 7 and Th Dec 9 -- Presentations of Papers in Progress & Conclusions\n",
      "\n",
      "\n",
      "TOP OF PAGE\n",
      "\n",
      "\n",
      "\n",
      "\n"
     ]
    }
   ],
   "source": [
    "print(session.query(document_text_table).filter(document_text_table.c['document_id'] == str(237602)).first()[-1])"
   ]
  }
 ],
 "metadata": {
  "kernelspec": {
   "display_name": "Python 3",
   "language": "python",
   "name": "python3"
  },
  "language_info": {
   "codemirror_mode": {
    "name": "ipython",
    "version": 3
   },
   "file_extension": ".py",
   "mimetype": "text/x-python",
   "name": "python",
   "nbconvert_exporter": "python",
   "pygments_lexer": "ipython3",
   "version": "3.5.2"
  }
 },
 "nbformat": 4,
 "nbformat_minor": 2
}
