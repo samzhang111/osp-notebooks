{
 "cells": [
  {
   "cell_type": "code",
   "execution_count": 2,
   "metadata": {
    "collapsed": true
   },
   "outputs": [],
   "source": [
    "import pandas as pd\n",
    "\n",
    "df = pd.read_sql_query('''SELECT d.document_id AS document_id, d.text AS text FROM document_text d JOIN is_syllabus i \n",
    "                                   ON d.document_id = i.document_id\n",
    "                                   WHERE i.score > 0.95''',\n",
    "                      'postgres:///osp')"
   ]
  },
  {
   "cell_type": "code",
   "execution_count": 3,
   "metadata": {
    "collapsed": false
   },
   "outputs": [
    {
     "name": "stdout",
     "output_type": "stream",
     "text": [
      "The corpus has 28117 syllabi\n"
     ]
    }
   ],
   "source": [
    "print(\"The corpus has {} syllabi\".format(df.shape[0]))"
   ]
  },
  {
   "cell_type": "code",
   "execution_count": 4,
   "metadata": {
    "collapsed": true
   },
   "outputs": [],
   "source": [
    "import textacy\n",
    "corpus = textacy.corpus.Corpus('en', texts=list(df.text))"
   ]
  },
  {
   "cell_type": "code",
   "execution_count": 5,
   "metadata": {
    "collapsed": true
   },
   "outputs": [],
   "source": [
    "terms_list = (doc.to_terms_list(ngrams=1, named_entities=True, as_strings=True) for doc in corpus)\n",
    "doc_term_matrix, id2term = textacy.vsm.doc_term_matrix(\n",
    "        terms_list, weighting='tfidf', normalize=True, smooth_idf=True,\n",
    "        min_df=3, max_df=0.95, max_n_terms=200000)\n"
   ]
  },
  {
   "cell_type": "code",
   "execution_count": 6,
   "metadata": {
    "collapsed": true
   },
   "outputs": [],
   "source": [
    "model = textacy.tm.TopicModel('nmf', n_topics=30)\n",
    "\n",
    "model.fit(doc_term_matrix)"
   ]
  },
  {
   "cell_type": "code",
   "execution_count": 8,
   "metadata": {
    "collapsed": false
   },
   "outputs": [
    {
     "name": "stdout",
     "output_type": "stream",
     "text": [
      "0\n",
      "dallas, university, texas, rule, grievance, utd, regulation, ’s, resolve, dean\n",
      "-----\n",
      "\n",
      "1\n",
      "point, discussion, week, group, social, university, program, project, blackboard, reading\n",
      "-----\n",
      "\n",
      "2\n",
      "equation, linear, solve, quadratic, rational, graph, function, test, lab, polynomial\n",
      "-----\n",
      "\n",
      "3\n",
      "t, s, r, ection, ion, e, o, er, las, g\n",
      "-----\n",
      "\n",
      "4\n",
      "hcc, counselor, test, withdrawal, college, 713, houston, tuition, ada, and/or\n",
      "-----\n",
      "\n",
      "5\n",
      "lcc, 721, laredo, revise, 956, ion, south, emergency, college, 794\n",
      "-----\n",
      "\n",
      "6\n",
      "lab, laboratory, biology, lecture, report, lin, practical, anatomy, physiology, exercise\n",
      "-----\n",
      "\n",
      "7\n",
      ", module, blackboard, test, o, ~, project, hw, tsi, ecollege\n",
      "-----\n",
      "\n",
      "8\n",
      "speech, persuasive, informative, speeches, point, communication, speak, presentation, audience, speaking\n",
      "-----\n",
      "\n",
      "9\n",
      "210, alamo, 485, colleges, concourse, 486, college, |, curricular, antonio\n",
      "-----\n",
      "\n",
      "10\n",
      "ch, 6, 12, 9, homework, 11, 10, 8, 7, 14\n",
      "-----\n",
      "\n",
      "11\n",
      "â, â, €, gbc, p., webcampus, ada, sexual, uta, â¢â\n",
      "-----\n",
      "\n",
      "12\n",
      "essay, english, draft, writing, argument, write, mla, paper, rhetorical, research\n",
      "-----\n",
      "\n",
      "13\n",
      "chapter, quiz, homework, 6, 10, 9, 11, 12, 7, accounting\n",
      "-----\n",
      "\n",
      "14\n",
      "39, 37, 43, 33, 41, 47, 35, 51, 45, 53\n",
      "-----\n",
      "\n",
      "15\n",
      "acc, myblackboard, 281, bit, 756, alvin, alvin community college, community, 136, college\n",
      "-----\n",
      "\n",
      "16\n",
      "â·, â, arlington, studentâs, project, studio, week, 817, critique, instructorâs\n",
      "-----\n",
      "\n",
      "17\n",
      "marketing, group, team, project, presentation, case, market, product, consumer, strategy\n",
      "-----\n",
      "\n",
      "18\n",
      "disorder, iii, language, applicant, knowledge, std, acquisition, convey, measure, successful\n",
      "-----\n",
      "\n",
      "19\n",
      "sec, odd, qz, math, calculus, quiz, problem, odds, calculator, score\n",
      "-----\n",
      "\n",
      "20\n",
      "eagleconnect, unt, oda, workout, absence, participate, fitness, point, zero, university\n",
      "-----\n",
      "\n",
      "21\n",
      "chemistry, chemical, organic, reaction, experiment, chem, recitation, exp, laboratory, acid\n",
      "-----\n",
      "\n",
      "22\n",
      "collin, blackboard, ’s, college, scholastic, collin college, texas, government, american, dishonesty\n",
      "-----\n",
      "\n",
      "23\n",
      "tia, myitlab, excel, 2010, software, ch2, ch1, network, ac, ch3\n",
      "-----\n",
      "\n",
      "24\n",
      "nursing, clinical, care, health, patient, rnsg, unit, nur, client, nurse\n",
      "-----\n",
      "\n",
      "25\n",
      "centro, el, 2014, dmat, 2013, ecampus, 214, equation, college, econnect\n",
      "-----\n",
      "\n",
      "26\n",
      "lab, phys, ta, physics, rasmussen, experiment, 1.205, circuit, report, slc\n",
      "-----\n",
      "\n",
      "27\n",
      "accounting, utd, |, aicpa, proctored, module, elearning, sap, discussion, tool\n",
      "-----\n",
      "\n",
      "28\n",
      "feb, apr, mar, chap, jan, wed, mon, prog, fri, spring\n",
      "-----\n",
      "\n",
      "29\n",
      "fourier, lab, matlab, session, labview, transform, signal, convolution, pc, dft\n",
      "-----\n",
      "\n"
     ]
    }
   ],
   "source": [
    "for topic_idx, top_terms in model.top_topic_terms(id2term, top_n=10):\n",
    "    print(topic_idx)\n",
    "    print(', '.join(top_terms))\n",
    "    print('-----\\n')"
   ]
  }
 ],
 "metadata": {
  "kernelspec": {
   "display_name": "Python 3",
   "language": "python",
   "name": "python3"
  },
  "language_info": {
   "codemirror_mode": {
    "name": "ipython",
    "version": 3
   },
   "file_extension": ".py",
   "mimetype": "text/x-python",
   "name": "python",
   "nbconvert_exporter": "python",
   "pygments_lexer": "ipython3",
   "version": "3.5.2"
  }
 },
 "nbformat": 4,
 "nbformat_minor": 2
}
